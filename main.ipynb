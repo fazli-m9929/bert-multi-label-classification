{
 "cells": [
  {
   "cell_type": "markdown",
   "metadata": {},
   "source": [
    "# Train"
   ]
  },
  {
   "cell_type": "code",
   "execution_count": null,
   "metadata": {},
   "outputs": [],
   "source": [
    "from custom_transformers import (\n",
    "    ModifiedBertForSequenceClassification,\n",
    "    SQLDataset,\n",
    "    BCEFocalLossWithLogits,\n",
    "    Trainer,\n",
    "    AutoTokenizer,\n",
    "    get_scheduler,\n",
    ")\n",
    "from torch.utils.data import (\n",
    "    DataLoader,\n",
    "    Subset,\n",
    ")\n",
    "from dotenv import load_dotenv\n",
    "import os\n",
    "import torch\n",
    "import matplotlib.pyplot as plt\n",
    "from sklearn.model_selection import train_test_split"
   ]
  },
  {
   "cell_type": "code",
   "execution_count": 2,
   "metadata": {},
   "outputs": [
    {
     "name": "stderr",
     "output_type": "stream",
     "text": [
      "Some weights of ModifiedBertForSequenceClassification were not initialized from the model checkpoint at /home/Models/TookaBERT-Base/ and are newly initialized: ['bert.pooler.dense.bias', 'bert.pooler.dense.weight', 'classifier.bias', 'classifier.weight']\n",
      "You should probably TRAIN this model on a down-stream task to be able to use it for predictions and inference.\n"
     ]
    }
   ],
   "source": [
    "load_dotenv()\n",
    "\n",
    "model = ModifiedBertForSequenceClassification.from_pretrained(\n",
    "    '/home/Models/TookaBERT-Base/',\n",
    "    num_labels=163,\n",
    "    # device_map='auto',\n",
    ")\n",
    "\n",
    "tokenizer = AutoTokenizer.from_pretrained('/home/Models/TookaBERT-Base/')\n",
    "\n",
    "connection_params = {\n",
    "    'dbname': os.getenv('DBNAME'),\n",
    "    'user': os.getenv('USERNAME'),\n",
    "    'password': os.getenv('PASS'),\n",
    "    'host': os.getenv('HOST', 'localhost'),\n",
    "    'port': os.getenv('PORT', '5432')\n",
    "}\n",
    "dataset = SQLDataset(\n",
    "    tokenizer,\n",
    "    connection_params=connection_params,\n",
    "    num_classes=163\n",
    ")"
   ]
  },
  {
   "cell_type": "code",
   "execution_count": 3,
   "metadata": {},
   "outputs": [
    {
     "data": {
      "image/png": "[encoded data removed]",
      "text/plain": [
       "<Figure size 800x200 with 1 Axes>"
      ]
     },
     "metadata": {},
     "output_type": "display_data"
    }
   ],
   "source": [
    "plt.figure(figsize=(8,2))\n",
    "plt.plot(sorted(dataset.scaled_class_weights), label= 'Sorted class weights')\n",
    "plt.legend()\n",
    "plt.grid()\n",
    "plt.show()"
   ]
  },
  {
   "cell_type": "code",
   "execution_count": 4,
   "metadata": {},
   "outputs": [],
   "source": [
    "train_indices, test_indices = train_test_split(\n",
    "    list(dataset.id_map.keys()),\n",
    "    test_size=0.1,\n",
    ")\n",
    "\n",
    "train_dataset = Subset(dataset, train_indices)\n",
    "test_dataset = Subset(dataset, test_indices)\n",
    "\n",
    "train_loader = DataLoader(train_dataset, 32, shuffle=True, collate_fn=dataset.collate_fn, num_workers=1)\n",
    "test_loader = DataLoader(test_dataset, 32, shuffle=True, collate_fn=dataset.collate_fn, num_workers=1)\n",
    "\n",
    "\n",
    "# optimizer = AdamW(model.parameters(), lr=5e-5)\n",
    "#--------------------------------------------------------------------------------------------------------------#\n",
    "# Define the parameters for the frozen and unfrozen layers\n",
    "frozen_params = []\n",
    "unfrozen_params = []\n",
    "\n",
    "for name, param in model.named_parameters():\n",
    "    if name in ['bert.pooler.dense.bias', 'bert.pooler.dense.weight', 'classifier.bias', 'classifier.weight']:\n",
    "        # These layers will have their own learning rate\n",
    "        unfrozen_params.append(param)\n",
    "    else:\n",
    "        # Freezing other layers (don't update their gradients)\n",
    "        frozen_params.append(param)\n",
    "optimizer = torch.optim.AdamW(\n",
    "    [\n",
    "        {'params': frozen_params, 'lr': 5e-6},   # Frozen layers have a smaller learning rate\n",
    "        {'params': unfrozen_params, 'lr': 5e-5},  # Unfrozen layers have a larger learning rate\n",
    "    ],\n",
    ")\n",
    "#--------------------------------------------------------------------------------------------------------------#\n",
    "\n",
    "loss_fn = BCEFocalLossWithLogits(gamma=2, alpha=0.957, class_weights=dataset.scaled_class_weights.to(model.device), reduction=\"mean\")\n",
    "\n",
    "num_epochs = 20\n",
    "num_training_steps = len(train_loader) * num_epochs \n",
    "warmup_steps = int(0.1 * num_training_steps)\n",
    "\n",
    "scheduler = get_scheduler(\n",
    "    name=\"cosine\",\n",
    "    optimizer=optimizer,\n",
    "    num_warmup_steps=warmup_steps,\n",
    "    num_training_steps=num_training_steps\n",
    ")\n",
    "\n",
    "trainer = Trainer(\n",
    "    model,\n",
    "    optimizer,\n",
    "    scheduler,\n",
    "    loss_fn,\n",
    "    train_loader,\n",
    "    test_loader\n",
    ")"
   ]
  },
  {
   "cell_type": "code",
   "execution_count": 6,
   "metadata": {},
   "outputs": [
    {
     "name": "stdout",
     "output_type": "stream",
     "text": [
      "Epoch   1/20\n"
     ]
    },
    {
     "name": "stdout",
     "output_type": "stream",
     "text": [
      "Training Loss: 0.1283\n",
      "Validation Loss: 0.0698\n",
      "\n",
      "Epoch   2/20\n"
     ]
    },
    {
     "name": "stdout",
     "output_type": "stream",
     "text": [
      "Training Loss: 0.0644\n",
      "Validation Loss: 0.0565\n",
      "\n",
      "Epoch   3/20\n"
     ]
    },
    {
     "name": "stdout",
     "output_type": "stream",
     "text": [
      "Training Loss: 0.0552\n",
      "Validation Loss: 0.0521\n",
      "\n",
      "Epoch   4/20\n"
     ]
    },
    {
     "name": "stdout",
     "output_type": "stream",
     "text": [
      "Training Loss: 0.0500\n",
      "Validation Loss: 0.0502\n",
      "\n",
      "Epoch   5/20\n"
     ]
    },
    {
     "name": "stdout",
     "output_type": "stream",
     "text": [
      "Training Loss: 0.0463\n",
      "Validation Loss: 0.0491\n",
      "\n",
      "Epoch   6/20\n"
     ]
    },
    {
     "name": "stdout",
     "output_type": "stream",
     "text": [
      "Training Loss: 0.0433\n",
      "Validation Loss: 0.0473\n",
      "\n",
      "Epoch   7/20\n"
     ]
    },
    {
     "name": "stdout",
     "output_type": "stream",
     "text": [
      "Training Loss: 0.0407\n",
      "Validation Loss: 0.0466\n",
      "\n",
      "Epoch   8/20\n"
     ]
    },
    {
     "name": "stdout",
     "output_type": "stream",
     "text": [
      "Training Loss: 0.0386\n",
      "Validation Loss: 0.0463\n",
      "\n",
      "Epoch   9/20\n"
     ]
    },
    {
     "name": "stdout",
     "output_type": "stream",
     "text": [
      "Training Loss: 0.0367\n",
      "Validation Loss: 0.0459\n",
      "\n",
      "Epoch  10/20\n"
     ]
    },
    {
     "name": "stdout",
     "output_type": "stream",
     "text": [
      "Training Loss: 0.0351\n",
      "Validation Loss: 0.0461\n",
      "\n",
      "Epoch  11/20\n"
     ]
    },
    {
     "name": "stdout",
     "output_type": "stream",
     "text": [
      "Training Loss: 0.0337\n",
      "Validation Loss: 0.0456\n",
      "\n",
      "Epoch  12/20\n"
     ]
    },
    {
     "name": "stdout",
     "output_type": "stream",
     "text": [
      "Training Loss: 0.0325\n",
      "Validation Loss: 0.0452\n",
      "\n",
      "Epoch  13/20\n"
     ]
    },
    {
     "name": "stdout",
     "output_type": "stream",
     "text": [
      "Training Loss: 0.0315\n",
      "Validation Loss: 0.0460\n",
      "\n",
      "Epoch  14/20\n"
     ]
    },
    {
     "name": "stdout",
     "output_type": "stream",
     "text": [
      "Training Loss: 0.0307\n",
      "Validation Loss: 0.0461\n",
      "\n",
      "Epoch  15/20\n"
     ]
    },
    {
     "name": "stdout",
     "output_type": "stream",
     "text": [
      "Training Loss: 0.0300\n",
      "Validation Loss: 0.0463\n",
      "\n",
      "Epoch  16/20\n"
     ]
    },
    {
     "name": "stdout",
     "output_type": "stream",
     "text": [
      "Training Loss: 0.0295\n",
      "Validation Loss: 0.0461\n",
      "\n",
      "Epoch  17/20\n"
     ]
    },
    {
     "name": "stdout",
     "output_type": "stream",
     "text": [
      "Training Loss: 0.0291\n",
      "Validation Loss: 0.0462\n",
      "\n",
      "Epoch  18/20\n"
     ]
    },
    {
     "name": "stdout",
     "output_type": "stream",
     "text": [
      "Training Loss: 0.0288\n",
      "Validation Loss: 0.0462\n",
      "\n",
      "Epoch  19/20\n"
     ]
    },
    {
     "name": "stdout",
     "output_type": "stream",
     "text": [
      "Training Loss: 0.0286\n",
      "Validation Loss: 0.0460\n",
      "\n",
      "Epoch  20/20\n"
     ]
    },
    {
     "name": "stdout",
     "output_type": "stream",
     "text": [
      "Training Loss: 0.0286\n",
      "Validation Loss: 0.0461\n",
      "\n"
     ]
    }
   ],
   "source": [
    "trainer.fit(num_epochs)"
   ]
  },
  {
   "cell_type": "code",
   "execution_count": 7,
   "metadata": {},
   "outputs": [
    {
     "data": {
      "text/plain": [
       "[<matplotlib.lines.Line2D at 0x7c5e701b4c50>]"
      ]
     },
     "execution_count": 7,
     "metadata": {},
     "output_type": "execute_result"
    },
    {
     "data": {
      "image/png": "[encoded data removed]",
      "text/plain": [
       "<Figure size 600x900 with 3 Axes>"
      ]
     },
     "metadata": {},
     "output_type": "display_data"
    }
   ],
   "source": [
    "plt.figure(figsize=(6, 9))\n",
    "plt.subplot(3, 1, 1)\n",
    "plt.plot([loss for losses in trainer.losses for loss in losses])\n",
    "plt.subplot(3, 1, 2)\n",
    "plt.plot([lr[1] for lr in trainer.learning_rates])\n",
    "plt.plot([lr[0] for lr in trainer.learning_rates])\n",
    "plt.subplot(3, 1, 3)\n",
    "plt.plot(trainer.validation_loss)"
   ]
  },
  {
   "cell_type": "code",
   "execution_count": null,
   "metadata": {},
   "outputs": [],
   "source": [
    "dataset.tokenizer.save_pretrained('./saved_models/myBERT-Base3/')\n",
    "trainer.model.save_pretrained('./saved_models/myBERT-Base3/', safe_serialization=True)\n",
    "trainer.model.save_pretrained('./saved_models/myBERT-Base3/', safe_serialization=False)"
   ]
  },
  {
   "cell_type": "markdown",
   "metadata": {},
   "source": [
    "# Check"
   ]
  },
  {
   "cell_type": "code",
   "execution_count": 10,
   "metadata": {},
   "outputs": [],
   "source": [
    "from custom_transformers import (\n",
    "    ModifiedBertForSequenceClassification,\n",
    "    AutoTokenizer\n",
    ")\n",
    "import torch"
   ]
  },
  {
   "cell_type": "code",
   "execution_count": 11,
   "metadata": {},
   "outputs": [],
   "source": [
    "model = ModifiedBertForSequenceClassification.from_pretrained(\n",
    "    './saved_models/myBERT-Base3/',\n",
    "    num_labels=163,\n",
    "    # device_map='auto',\n",
    ").eval()\n",
    "\n",
    "tokenizer = AutoTokenizer.from_pretrained('./saved_models/myBERT-Base3/')"
   ]
  },
  {
   "cell_type": "code",
   "execution_count": 12,
   "metadata": {},
   "outputs": [
    {
     "name": "stdout",
     "output_type": "stream",
     "text": [
      "[8, 9, 26, 29, 31, 40, 85, 102, 118, 142, 159, 162]\n"
     ]
    }
   ],
   "source": [
    "# %%timeit\n",
    "tokens = tokenizer(\n",
    "    'ارایه کلیه خدمات مهندسی کشاورزی شامل مشاوره اجرا نظارت بر اجرای انواع طرحهای ابیاری قطره ای بارانی تحت فشار و برقی کردن چاه های کشاورزی جهت بهبود عملیات زراعی در مزارع کشاورزی و باغات و تسطیح و اماده سازی و ابخیزداری و زهکشی کلیه زمینهای کشاورزی باغداری ایجاد فضای سبز گلخانه های فضای ازاد تهیه تولید تکثیر و پرورش گلهای اپارتمانی و انواع نهال تهیه تولید خرید فروش بسته بندی واردات صادرات انواع کودهای شیمیایی انواع بذر و نشا و کمپوست و سموم نباتی و ماشین الات کشاورزی و دامپروری ارایه خدمات مشاوره در زمینه بهبود عملیات زراعی و باغداری شناسایی و ردیابی افات زراعی و از بین بردن این افات بصورت علمی شرکت در مناقصه ها و مزایده های دولتی و شخصی اخذ نمایندگی از شرکتهای داخلی و خارجی انجام کلیه امور بازرگانی شامل واردات صادرات ترخیص حق العمل کاری کلیه کالاهای مجاز از کلیه گمرکات و بنادر کشور و شرکت در مناقصه ها و مزایده های دولتی و شخصی اخذ نمایندگی از شرکتهای داخلی و خارجی انجام کلیه عملیات اجرایی انواع طرحهای مخابراتی تاسیساتی ساختمانی راهسازی و گاز رسانی ابرسانی شهری و روستایی صنعتی شامل حفاری کابل کشی لوله گذاری کانال سازی خاکبرداری و جدول کشی انجام کلیه امور پروژه های ساختمانی مسکونی اسفالت کاری اسکلت سازی و محوطه سازی و تخریب و خاکبرداری خاکریزی و پی کنی دیوار چینی کلیه امور نقشه کشی (Gps – GPRS) کلیه امور اسنادی (خدمات اسنادی قبض انبار منطقه ویژه اصلاحیه مانیفست صورتحساب مجوز خروج کالا (بیجک) تسویه و صورت مجالس شناور صورت وضعیت خروج شناور)',\n",
    "    truncation=True,\n",
    "    padding=True,\n",
    "    return_tensors='pt'\n",
    ")\n",
    "\n",
    "with torch.no_grad():\n",
    "    output = model(**tokens.to(model.device))\n",
    "\n",
    "lables = torch.argwhere(torch.sigmoid(output.logits[0]) > 0.4).view(-1).tolist()\n",
    "print(lables)"
   ]
  }
 ],
 "metadata": {
  "kernelspec": {
   "display_name": ".venv",
   "language": "python",
   "name": "python3"
  },
  "language_info": {
   "codemirror_mode": {
    "name": "ipython",
    "version": 3
   },
   "file_extension": ".py",
   "mimetype": "text/x-python",
   "name": "python",
   "nbconvert_exporter": "python",
   "pygments_lexer": "ipython3",
   "version": "3.12.3"
  }
 },
 "nbformat": 4,
 "nbformat_minor": 2
}
